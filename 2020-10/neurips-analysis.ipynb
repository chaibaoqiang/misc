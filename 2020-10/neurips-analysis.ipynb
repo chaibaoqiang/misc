{
 "cells": [
  {
   "cell_type": "markdown",
   "metadata": {},
   "source": [
    "# Neurips Analysis"
   ]
  },
  {
   "cell_type": "code",
   "execution_count": 54,
   "metadata": {},
   "outputs": [],
   "source": [
    "import re\n",
    "import numpy as np\n",
    "import matplotlib.pyplot as plt\n",
    "import pandas as pd\n",
    "from requests_html import HTMLSession\n",
    "from tqdm.notebook import tqdm\n",
    "from time import sleep"
   ]
  },
  {
   "cell_type": "code",
   "execution_count": 3,
   "metadata": {},
   "outputs": [],
   "source": [
    "papers_url = \"https://papers.nips.cc/\""
   ]
  },
  {
   "cell_type": "code",
   "execution_count": 119,
   "metadata": {},
   "outputs": [
    {
     "data": {
      "text/plain": [
       "<Response [200]>"
      ]
     },
     "execution_count": 119,
     "metadata": {},
     "output_type": "execute_result"
    }
   ],
   "source": [
    "with HTMLSession() as sess:\n",
    "    r = sess.get(papers_url)\n",
    "r"
   ]
  },
  {
   "cell_type": "code",
   "execution_count": 30,
   "metadata": {},
   "outputs": [],
   "source": [
    "wrapper = r.html.find(\"div[class='main wrapper clearfix']\", first=True)\n",
    "li_list = wrapper.find(\"li\")"
   ]
  },
  {
   "cell_type": "code",
   "execution_count": 36,
   "metadata": {},
   "outputs": [
    {
     "data": {
      "text/plain": [
       "'Neural Information Processing Systems (NIPS 1987)'"
      ]
     },
     "execution_count": 36,
     "metadata": {},
     "output_type": "execute_result"
    }
   ],
   "source": [
    "li.text"
   ]
  },
  {
   "cell_type": "code",
   "execution_count": 53,
   "metadata": {},
   "outputs": [
    {
     "data": {
      "text/plain": [
       "{'2019': 'https://papers.nips.cc/book/advances-in-neural-information-processing-systems-32-2019',\n",
       " '2018': 'https://papers.nips.cc/book/advances-in-neural-information-processing-systems-31-2018',\n",
       " '2017': 'https://papers.nips.cc/book/advances-in-neural-information-processing-systems-30-2017',\n",
       " '2016': 'https://papers.nips.cc/book/advances-in-neural-information-processing-systems-29-2016',\n",
       " '2015': 'https://papers.nips.cc/book/advances-in-neural-information-processing-systems-28-2015',\n",
       " '2014': 'https://papers.nips.cc/book/advances-in-neural-information-processing-systems-27-2014',\n",
       " '2013': 'https://papers.nips.cc/book/advances-in-neural-information-processing-systems-26-2013',\n",
       " '2012': 'https://papers.nips.cc/book/advances-in-neural-information-processing-systems-25-2012',\n",
       " '2011': 'https://papers.nips.cc/book/advances-in-neural-information-processing-systems-24-2011',\n",
       " '2010': 'https://papers.nips.cc/book/advances-in-neural-information-processing-systems-23-2010',\n",
       " '2009': 'https://papers.nips.cc/book/advances-in-neural-information-processing-systems-22-2009',\n",
       " '2008': 'https://papers.nips.cc/book/advances-in-neural-information-processing-systems-21-2008',\n",
       " '2007': 'https://papers.nips.cc/book/advances-in-neural-information-processing-systems-20-2007',\n",
       " '2006': 'https://papers.nips.cc/book/advances-in-neural-information-processing-systems-19-2006',\n",
       " '2005': 'https://papers.nips.cc/book/advances-in-neural-information-processing-systems-18-2005',\n",
       " '2004': 'https://papers.nips.cc/book/advances-in-neural-information-processing-systems-17-2004',\n",
       " '2003': 'https://papers.nips.cc/book/advances-in-neural-information-processing-systems-16-2003',\n",
       " '2002': 'https://papers.nips.cc/book/advances-in-neural-information-processing-systems-15-2002',\n",
       " '2001': 'https://papers.nips.cc/book/advances-in-neural-information-processing-systems-14-2001',\n",
       " '2000': 'https://papers.nips.cc/book/advances-in-neural-information-processing-systems-13-2000',\n",
       " '1999': 'https://papers.nips.cc/book/advances-in-neural-information-processing-systems-12-1999',\n",
       " '1998': 'https://papers.nips.cc/book/advances-in-neural-information-processing-systems-11-1998',\n",
       " '1997': 'https://papers.nips.cc/book/advances-in-neural-information-processing-systems-10-1997',\n",
       " '1996': 'https://papers.nips.cc/book/advances-in-neural-information-processing-systems-9-1996',\n",
       " '1995': 'https://papers.nips.cc/book/advances-in-neural-information-processing-systems-8-1995',\n",
       " '1994': 'https://papers.nips.cc/book/advances-in-neural-information-processing-systems-7-1994',\n",
       " '1993': 'https://papers.nips.cc/book/advances-in-neural-information-processing-systems-6-1993',\n",
       " '1992': 'https://papers.nips.cc/book/advances-in-neural-information-processing-systems-5-1992',\n",
       " '1991': 'https://papers.nips.cc/book/advances-in-neural-information-processing-systems-4-1991',\n",
       " '1990': 'https://papers.nips.cc/book/advances-in-neural-information-processing-systems-3-1990',\n",
       " '1989': 'https://papers.nips.cc/book/advances-in-neural-information-processing-systems-2-1989',\n",
       " '1988': 'https://papers.nips.cc/book/advances-in-neural-information-processing-systems-1-1988',\n",
       " '1987': 'https://papers.nips.cc/book/neural-information-processing-systems-1987'}"
      ]
     },
     "execution_count": 53,
     "metadata": {},
     "output_type": "execute_result"
    }
   ],
   "source": [
    "regexp = re.compile(\"[0-9]{4}\")\n",
    "proceedings_urls = {}\n",
    "for li in li_list:\n",
    "    year, *_ = regexp.findall(li.text)\n",
    "    proceedings_url, *_ = li.absolute_links\n",
    "    proceedings_urls[year] = proceedings_url\n",
    "\n",
    "proceedings_urls"
   ]
  },
  {
   "cell_type": "code",
   "execution_count": 127,
   "metadata": {},
   "outputs": [],
   "source": [
    "def extract_proceedings_papers(url, sess):\n",
    "    r = sess.get(url)\n",
    "    \n",
    "    wrapper_year = r.html.find(\"div[class='main wrapper clearfix']\", first=True)\n",
    "    papers_year = wrapper_year.find(\"li\")\n",
    "\n",
    "    proceedings_info = []\n",
    "    for paper in papers_year:\n",
    "        title, *authors = paper.find(\"a\")\n",
    "        paper_title = title.text\n",
    "        paper_url, *_ = title.absolute_links\n",
    "        authors_name = [author.text for author in authors]\n",
    "        info = {\n",
    "            \"paper_title\": paper_title,\n",
    "            \"paper_url\": paper_url,\n",
    "            \"authors_name\": authors_name\n",
    "        }\n",
    "        proceedings_info.append(info)\n",
    "        \n",
    "    return proceedings_info"
   ]
  },
  {
   "cell_type": "code",
   "execution_count": 117,
   "metadata": {},
   "outputs": [
    {
     "data": {
      "text/plain": [
       "{'User-Agent': 'Mozilla/5.0 (Macintosh; Intel Mac OS X 10_12_6) AppleWebKit/603.3.8 (KHTML, like Gecko) Version/10.1.2 Safari/603.3.8', 'Accept-Encoding': 'gzip, deflate', 'Accept': '*/*', 'Connection': 'keep-alive'}"
      ]
     },
     "execution_count": 117,
     "metadata": {},
     "output_type": "execute_result"
    }
   ],
   "source": [
    "sess.headers"
   ]
  },
  {
   "cell_type": "code",
   "execution_count": 129,
   "metadata": {},
   "outputs": [
    {
     "name": "stdout",
     "output_type": "stream",
     "text": [
      "CPU times: user 26.6 ms, sys: 4.37 ms, total: 31 ms\n",
      "Wall time: 23.1 s\n"
     ]
    }
   ],
   "source": [
    "%%time\n",
    "with HTMLSession() as sess:\n",
    "    r = sess.get(url)"
   ]
  },
  {
   "cell_type": "code",
   "execution_count": 130,
   "metadata": {},
   "outputs": [
    {
     "data": {
      "application/vnd.jupyter.widget-view+json": {
       "model_id": "ff4f3be97d3b4baebed302231462eed9",
       "version_major": 2,
       "version_minor": 0
      },
      "text/plain": [
       "HBox(children=(FloatProgress(value=0.0, max=33.0), HTML(value='')))"
      ]
     },
     "metadata": {},
     "output_type": "display_data"
    },
    {
     "name": "stdout",
     "output_type": "stream",
     "text": [
      "\n"
     ]
    }
   ],
   "source": [
    "proceedings_info = {}\n",
    "with HTMLSession() as sess:\n",
    "    for year, url in tqdm(proceedings_urls.items()):\n",
    "        info = extract_proceedings_papers(url, sess)\n",
    "        proceedings_info[int(year)] = info\n",
    "    sleep(1)"
   ]
  },
  {
   "cell_type": "code",
   "execution_count": null,
   "metadata": {},
   "outputs": [],
   "source": []
  }
 ],
 "metadata": {
  "kernelspec": {
   "display_name": "Python 3",
   "language": "python",
   "name": "python3"
  },
  "language_info": {
   "codemirror_mode": {
    "name": "ipython",
    "version": 3
   },
   "file_extension": ".py",
   "mimetype": "text/x-python",
   "name": "python",
   "nbconvert_exporter": "python",
   "pygments_lexer": "ipython3",
   "version": "3.7.7"
  }
 },
 "nbformat": 4,
 "nbformat_minor": 4
}
